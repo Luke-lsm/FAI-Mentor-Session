{
 "cells": [
  {
   "cell_type": "markdown",
   "metadata": {},
   "source": [
    "# Mentor Training - FAI\n",
    "LO:\n",
    "- Understand how to preprocess a dataset for machine learning using pandas\n",
    "\n",
    "We will be using a Google Play Store dataset to practice preprocessing."
   ]
  },
  {
   "cell_type": "code",
   "execution_count": 176,
   "metadata": {},
   "outputs": [],
   "source": [
    "# import your libraries!!\n",
    "import numpy as np\n",
    "import pandas as pd\n",
    "import matplotlib.pyplot as plt"
   ]
  },
  {
   "cell_type": "code",
   "execution_count": 177,
   "metadata": {},
   "outputs": [],
   "source": [
    "# read from the csv file\n",
    "df = pd.read_csv(\"googleplaystore.csv\")"
   ]
  },
  {
   "cell_type": "markdown",
   "metadata": {},
   "source": [
    "## Preprocessing data"
   ]
  },
  {
   "cell_type": "markdown",
   "metadata": {},
   "source": [
    "Suppose we had a dataset that had 10k android apps from the Google Play store. This dataset had rows such as the name of the app, number of reviews, average rating, number of installs etc.\n",
    "\n",
    "Let's say we were going to train a decision tree, to predict an average rating that an app would have, based on the number of reviews and the number of installs (we won't actually do this in today's session).\n",
    "\n",
    "Before we can train the decision tree, the data needs to be preprocessed and prepared."
   ]
  },
  {
   "cell_type": "markdown",
   "metadata": {},
   "source": [
    "There are 2 main things to consider when preprocessing data:\n",
    "- Are there any null values?\n",
    "- Are there any non-integer values?\n",
    "\n",
    "Let's check for null values first. "
   ]
  },
  {
   "cell_type": "code",
   "execution_count": 178,
   "metadata": {},
   "outputs": [
    {
     "data": {
      "text/plain": [
       "App                  0\n",
       "Category             0\n",
       "Rating            1474\n",
       "Reviews              0\n",
       "Size                 0\n",
       "Installs             0\n",
       "Type                 1\n",
       "Price                0\n",
       "Content Rating       1\n",
       "Genres               0\n",
       "Last Updated         0\n",
       "Current Ver          8\n",
       "Android Ver          3\n",
       "dtype: int64"
      ]
     },
     "execution_count": 178,
     "metadata": {},
     "output_type": "execute_result"
    }
   ],
   "source": [
    "# we check for null values by using the isnull function\n",
    "# we sum it up to see how many null values are present. This is important\n",
    "df.isnull().sum()"
   ]
  },
  {
   "cell_type": "markdown",
   "metadata": {},
   "source": [
    "We can see above that ratings has over a 1000 null values, and there are a few null values in the app current version.\n",
    "\n",
    "There are 2 ways to approach fixing null values:\n",
    "- Remove the rows that have null values\n",
    "- Fill in the cells with null values, based on averages of the other cells\n",
    "\n",
    "Removing rows is ideal for larger datasets (of at least 10k or above). However if you have a smaller dataset, removing rows would reduce the data that the decision tree has to train and test, which can reduce accuracy on testing data.\n",
    "\n",
    "Filling in cells with averages of other cells works well for smaller datasets as it means that all the rows can be used in the training and testing process. However, this can mean that data is inconsistent as the null values are simply averages which might not be accurate."
   ]
  },
  {
   "cell_type": "markdown",
   "metadata": {},
   "source": [
    "So let's try both methods:\n",
    "\n",
    "First, let's delete every row with a null value."
   ]
  },
  {
   "cell_type": "code",
   "execution_count": 179,
   "metadata": {},
   "outputs": [
    {
     "data": {
      "text/plain": [
       "App               0\n",
       "Category          0\n",
       "Rating            0\n",
       "Reviews           0\n",
       "Size              0\n",
       "Installs          0\n",
       "Type              0\n",
       "Price             0\n",
       "Content Rating    0\n",
       "Genres            0\n",
       "Last Updated      0\n",
       "Current Ver       0\n",
       "Android Ver       0\n",
       "dtype: int64"
      ]
     },
     "execution_count": 179,
     "metadata": {},
     "output_type": "execute_result"
    }
   ],
   "source": [
    "# dropna() is a pandas function that removes missing values.\n",
    "# The inplace = True means that valid entries in the csv are kept in the variable df\n",
    "df.dropna(inplace=True)\n",
    "df.isnull().sum()"
   ]
  },
  {
   "cell_type": "markdown",
   "metadata": {},
   "source": [
    "So above, we were able to remove the values that had null values. Let's check how many rows we have in the DataFrame."
   ]
  },
  {
   "cell_type": "code",
   "execution_count": 180,
   "metadata": {},
   "outputs": [
    {
     "data": {
      "text/plain": [
       "9360"
      ]
     },
     "execution_count": 180,
     "metadata": {},
     "output_type": "execute_result"
    }
   ],
   "source": [
    "len(df)"
   ]
  },
  {
   "cell_type": "markdown",
   "metadata": {},
   "source": [
    "We still have a lot of rows that should be enough for the decision tree.\n",
    "\n",
    "Let's try the second method."
   ]
  },
  {
   "cell_type": "code",
   "execution_count": 181,
   "metadata": {},
   "outputs": [
    {
     "data": {
      "text/plain": [
       "App                  0\n",
       "Category             0\n",
       "Rating            1474\n",
       "Reviews              0\n",
       "Size                 0\n",
       "Installs             0\n",
       "Type                 1\n",
       "Price                0\n",
       "Content Rating       1\n",
       "Genres               0\n",
       "Last Updated         0\n",
       "Current Ver          8\n",
       "Android Ver          3\n",
       "dtype: int64"
      ]
     },
     "execution_count": 181,
     "metadata": {},
     "output_type": "execute_result"
    }
   ],
   "source": [
    "# read from the csv file again\n",
    "df = pd.read_csv(\"googleplaystore.csv\")\n",
    "df.isnull().sum()"
   ]
  },
  {
   "cell_type": "markdown",
   "metadata": {},
   "source": [
    "Null values in the Rating heading will be assigned a mean based on the other values under Ratings. "
   ]
  },
  {
   "cell_type": "code",
   "execution_count": 182,
   "metadata": {},
   "outputs": [
    {
     "data": {
      "text/plain": [
       "4.4     1109\n",
       "4.3     1076\n",
       "4.5     1038\n",
       "4.2      952\n",
       "4.6      823\n",
       "4.1      708\n",
       "4.0      568\n",
       "4.7      499\n",
       "3.9      386\n",
       "3.8      303\n",
       "5.0      274\n",
       "3.7      239\n",
       "4.8      234\n",
       "3.6      174\n",
       "3.5      163\n",
       "3.4      128\n",
       "3.3      102\n",
       "4.9       87\n",
       "3.0       83\n",
       "3.1       69\n",
       "3.2       64\n",
       "2.9       45\n",
       "2.8       42\n",
       "2.7       25\n",
       "2.6       25\n",
       "2.5       21\n",
       "2.3       20\n",
       "2.4       19\n",
       "1.0       16\n",
       "2.2       14\n",
       "1.9       13\n",
       "2.0       12\n",
       "1.7        8\n",
       "1.8        8\n",
       "2.1        8\n",
       "1.6        4\n",
       "1.4        3\n",
       "1.5        3\n",
       "1.2        1\n",
       "19.0       1\n",
       "Name: Rating, dtype: int64"
      ]
     },
     "execution_count": 182,
     "metadata": {},
     "output_type": "execute_result"
    }
   ],
   "source": [
    "# here we are getting the value counts for each value in Ratings\n",
    "# we don't need this to calculate the mean, but it's a useful function to use\n",
    "df[\"Rating\"].value_counts()"
   ]
  },
  {
   "cell_type": "code",
   "execution_count": 183,
   "metadata": {},
   "outputs": [
    {
     "data": {
      "text/plain": [
       "4.193338315362443"
      ]
     },
     "execution_count": 183,
     "metadata": {},
     "output_type": "execute_result"
    }
   ],
   "source": [
    "df[\"Rating\"].mean()"
   ]
  },
  {
   "cell_type": "code",
   "execution_count": 184,
   "metadata": {},
   "outputs": [
    {
     "data": {
      "text/plain": [
       "App               0\n",
       "Category          0\n",
       "Rating            0\n",
       "Reviews           0\n",
       "Size              0\n",
       "Installs          0\n",
       "Type              1\n",
       "Price             0\n",
       "Content Rating    1\n",
       "Genres            0\n",
       "Last Updated      0\n",
       "Current Ver       8\n",
       "Android Ver       3\n",
       "dtype: int64"
      ]
     },
     "execution_count": 184,
     "metadata": {},
     "output_type": "execute_result"
    }
   ],
   "source": [
    "# we change the Ratings column in df to the mean of that column\n",
    "df[\"Rating\"] = df[\"Rating\"].fillna(df[\"Rating\"].mean())\n",
    "df.isnull().sum()"
   ]
  },
  {
   "cell_type": "code",
   "execution_count": 185,
   "metadata": {},
   "outputs": [
    {
     "data": {
      "text/plain": [
       "App               0\n",
       "Category          0\n",
       "Rating            0\n",
       "Reviews           0\n",
       "Size              0\n",
       "Installs          0\n",
       "Type              0\n",
       "Price             0\n",
       "Content Rating    1\n",
       "Genres            0\n",
       "Last Updated      0\n",
       "Current Ver       8\n",
       "Android Ver       3\n",
       "dtype: int64"
      ]
     },
     "execution_count": 185,
     "metadata": {},
     "output_type": "execute_result"
    }
   ],
   "source": [
    "df[\"Type\"] = df[\"Type\"].fillna(\"Free\")\n",
    "df.isnull().sum()"
   ]
  },
  {
   "cell_type": "markdown",
   "metadata": {},
   "source": [
    "For the other columns we will use the mode. This is because these types of data are non-integer (which you can't get a mean for). We will find the largest value in the column and assign the null values that value. This works well for non-integer values."
   ]
  },
  {
   "cell_type": "code",
   "execution_count": 186,
   "metadata": {},
   "outputs": [
    {
     "data": {
      "text/plain": [
       "Everyone           8714\n",
       "Teen               1208\n",
       "Mature 17+          499\n",
       "Everyone 10+        414\n",
       "Adults only 18+       3\n",
       "Unrated               2\n",
       "Name: Content Rating, dtype: int64"
      ]
     },
     "execution_count": 186,
     "metadata": {},
     "output_type": "execute_result"
    }
   ],
   "source": [
    "# find the value counts for each content rating\n",
    "df[\"Content Rating\"].value_counts()"
   ]
  },
  {
   "cell_type": "code",
   "execution_count": 187,
   "metadata": {},
   "outputs": [
    {
     "data": {
      "text/plain": [
       "App               0\n",
       "Category          0\n",
       "Rating            0\n",
       "Reviews           0\n",
       "Size              0\n",
       "Installs          0\n",
       "Type              0\n",
       "Price             0\n",
       "Content Rating    0\n",
       "Genres            0\n",
       "Last Updated      0\n",
       "Current Ver       8\n",
       "Android Ver       3\n",
       "dtype: int64"
      ]
     },
     "execution_count": 187,
     "metadata": {},
     "output_type": "execute_result"
    }
   ],
   "source": [
    "# Assign the column the mode: Everyone\n",
    "df[\"Content Rating\"] = df[\"Content Rating\"].fillna(\"Everyone\")\n",
    "df.isnull().sum()"
   ]
  },
  {
   "cell_type": "markdown",
   "metadata": {},
   "source": [
    "I would like you to try and do the same for the next two columns (Current Ver and Android Ver). Check that you have done this correctly by using the isnull() function."
   ]
  },
  {
   "cell_type": "code",
   "execution_count": 188,
   "metadata": {},
   "outputs": [],
   "source": [
    "# put your code here for current ver"
   ]
  },
  {
   "cell_type": "code",
   "execution_count": 189,
   "metadata": {},
   "outputs": [],
   "source": [
    "# put your code here for android ver"
   ]
  },
  {
   "cell_type": "markdown",
   "metadata": {},
   "source": [
    "Congrats! You now know how to remove null values from a dataset. This will prove to be very useful in your coursework."
   ]
  },
  {
   "cell_type": "markdown",
   "metadata": {},
   "source": [
    "## Linear Regression"
   ]
  },
  {
   "cell_type": "markdown",
   "metadata": {},
   "source": [
    "# Explaination"
   ]
  },
  {
   "cell_type": "markdown",
   "metadata": {},
   "source": [
    "For our linear regression, we will be using the diabetes dataset that is bundled with sklearn. The x values are the independent values and the y values are the dependent - the x values will be used to get our targets, the y values. For this example, we will only take one feature for x (for example, 1 feature would be heartrate, 2 features would be heartrate and blood pressure - it is just the set of values). We can also visualise this data."
   ]
  },
  {
   "cell_type": "code",
   "execution_count": 193,
   "metadata": {},
   "outputs": [
    {
     "data": {
      "text/plain": [
       "Text(0, 0.5, 'y')"
      ]
     },
     "execution_count": 193,
     "metadata": {},
     "output_type": "execute_result"
    },
    {
     "data": {
      "image/png": "[encoded data removed]",
      "text/plain": [
       "<Figure size 432x288 with 1 Axes>"
      ]
     },
     "metadata": {
      "needs_background": "light"
     },
     "output_type": "display_data"
    }
   ],
   "source": [
    "from sklearn import datasets\n",
    "from matplotlib import pyplot as plt\n",
    "diabetes_x, diabetes_y = datasets.load_diabetes(return_X_y=True)\n",
    "diabetes_x = diabetes_x[:, np.newaxis, 2] # this takes the second index in the second dimension, whilst keeping it a 2d array. The data will look like [[1], [2], [3], ...]\n",
    "\n",
    "plt.scatter(diabetes_x, diabetes_y) # plot the x and y values in a scatter plot - we can see any trends by doing this\n",
    "plt.xlabel(\"x\")\n",
    "plt.ylabel(\"y\")"
   ]
  },
  {
   "cell_type": "markdown",
   "metadata": {},
   "source": [
    "We will also split our data into a test and training dataset. We use sklearn's built-in function for this. `test_size` sets the percentage of the dataset to use as test data and `shuffle` enables randomisation of the data."
   ]
  },
  {
   "cell_type": "code",
   "execution_count": 194,
   "metadata": {},
   "outputs": [],
   "source": [
    "from sklearn.model_selection import train_test_split\n",
    "x_train, x_test, y_train, y_test = train_test_split(diabetes_x, diabetes_y, test_size=0.2, shuffle=True)"
   ]
  },
  {
   "cell_type": "markdown",
   "metadata": {},
   "source": [
    "We can now train the linear regression model - this uses sklearn. "
   ]
  },
  {
   "cell_type": "code",
   "execution_count": 195,
   "metadata": {},
   "outputs": [],
   "source": [
    "from sklearn.linear_model import LinearRegression\n",
    "model = LinearRegression().fit(x_train, y_train)"
   ]
  },
  {
   "cell_type": "markdown",
   "metadata": {},
   "source": [
    "We can show the coefficient and the intercept. Note there is only one coefficient here - this loops back to us only using a single-feature (one independent variable) dataset for this model. Generally, the formula for linear regression can be considered `y = f1*x1 + f2*x2 + f3*x3... + fn*xn + c` where `f` is the coefficient for a feature, `x` is the x-value for the feature (so `f1` is the coefficient for feature 1 and `x1` is an x-value for feature 1), and `c` is the sum of all biases (intercept). That means that here, with our single feature model, this formula is `y=f1 + c`. You may notice this is just `y = mx + c` - the equation of a straight line with `m` being the gradient and `c` being the y-intercept.\n",
    "\n",
    "You may see a more formal definition of linear regression as `y=b0 + b1*x1 + ... + bn*xn + e`. This is the same equation with `b0` being the sum of all biases, and `e` being the error of our model. To explain `e` you can consider a single datapoint in our training data, x and y. For a typical, non-perfect model if you plug the x value(s) into the above equation then you will (usually) not get the exact value of `y`. This is because our model is generalised to our entire dataset, and so unless the datapoint lies exactly where our model has generalised the predicted `y` value will always be `e` distance from the true `y` value."
   ]
  },
  {
   "cell_type": "code",
   "execution_count": 196,
   "metadata": {},
   "outputs": [
    {
     "name": "stdout",
     "output_type": "stream",
     "text": [
      "Model coefficient(s): [937.00070297]\n",
      "Model intercept: 150.90553447705963\n"
     ]
    }
   ],
   "source": [
    "print(\"Model coefficient(s): {}\".format(model.coef_)) # note that this is an array but it only has one value for this dataset\n",
    "print(\"Model intercept: {}\".format(model.intercept_))"
   ]
  },
  {
   "cell_type": "markdown",
   "metadata": {},
   "source": [
    "We can visualise this model onto our training data. The above explaination of linear regression should help you understand line 2 in detail."
   ]
  },
  {
   "cell_type": "code",
   "execution_count": 197,
   "metadata": {},
   "outputs": [
    {
     "data": {
      "text/plain": [
       "Text(0, 0.5, 'y')"
      ]
     },
     "execution_count": 197,
     "metadata": {},
     "output_type": "execute_result"
    },
    {
     "data": {
      "image/png": "[encoded data removed]",
      "text/plain": [
       "<Figure size 432x288 with 1 Axes>"
      ]
     },
     "metadata": {
      "needs_background": "light"
     },
     "output_type": "display_data"
    }
   ],
   "source": [
    "x_values = np.linspace(x_train.min(), x_train.max(), 100) # creates a list of 100 evenly spaced numbers between the min and max values of x_train\n",
    "y_values = model.intercept_ + model.coef_[0] * x_values # applies our single-feature model coefficient and bias onto the x values - can be considered to be y = mx + c\n",
    "plt.scatter(x_train, y_train) # plot our training data\n",
    "plt.plot(x_values, y_values, color=\"red\") # plot our model line\n",
    "plt.xlabel(\"x\")\n",
    "plt.ylabel(\"y\")"
   ]
  },
  {
   "cell_type": "markdown",
   "metadata": {},
   "source": [
    "We can test the accuracy of our model with our test data and the Mean Squared Error (MSE) metric. We can also compute the Root Mean Squared Error (RMSE).\n",
    "\n",
    "Mathematically, MSE is `(1/n) * Σ(truth – predicted)2` where `n` is the number of datapoints, and `truth` and `predicted` are the \"real\" and the model-produced values respectively. We can explain this formula as the sum of the squared distance between the real and the predicted value for each datapoint, then divided by the number of datapoints.\n",
    "MSE alone can be difficult to interpret as it is the average of the squared distances - so it will be on a different scale to the true values. RMSE solves this by simply being the root of the MSE.\n",
    "\n",
    "During training of a linear regression model MSE or RMSE is used as a loss function - the fit function will try to optimise the model around the goal of minimising the output of the loss function."
   ]
  },
  {
   "cell_type": "code",
   "execution_count": 198,
   "metadata": {},
   "outputs": [
    {
     "name": "stdout",
     "output_type": "stream",
     "text": [
      "MSE: 3606.534\n",
      "RMSE: 60.054\n"
     ]
    }
   ],
   "source": [
    "from sklearn.metrics import mean_squared_error\n",
    "y_predict = model.predict(x_test)\n",
    "error = mean_squared_error(y_test, y_predict)\n",
    "print(f\"MSE: {error:.3f}\")\n",
    "print(f\"RMSE: {np.sqrt(error):.3f}\")"
   ]
  },
  {
   "cell_type": "markdown",
   "metadata": {},
   "source": [
    "# Exercise"
   ]
  },
  {
   "cell_type": "markdown",
   "metadata": {},
   "source": [
    "The below function generates a dataset (variables x and y) for you to build a linear regression model from:"
   ]
  },
  {
   "cell_type": "code",
   "execution_count": 199,
   "metadata": {},
   "outputs": [],
   "source": [
    "# you do not need to understand this, only use the produced x and y\n",
    "count = 300\n",
    "x = np.linspace(0, 10, count)\n",
    "y = np.random.normal(loc=x, scale=1.5)\n",
    "x = x.reshape((count, 1))"
   ]
  },
  {
   "cell_type": "markdown",
   "metadata": {},
   "source": [
    "Visualise the above dataset (see if it has a correlation - will it work with linear regression?), split it into train and test datasets, train a linear regression model, and compute the Root Mean Squared Error."
   ]
  },
  {
   "cell_type": "code",
   "execution_count": 200,
   "metadata": {},
   "outputs": [],
   "source": [
    "# visualise here"
   ]
  },
  {
   "cell_type": "code",
   "execution_count": 201,
   "metadata": {},
   "outputs": [],
   "source": [
    "# split and train here"
   ]
  },
  {
   "cell_type": "code",
   "execution_count": 202,
   "metadata": {},
   "outputs": [],
   "source": [
    "# compute the RMSE here"
   ]
  }
 ],
 "metadata": {
  "kernelspec": {
   "display_name": "Python 3",
   "language": "python",
   "name": "python3"
  },
  "language_info": {
   "codemirror_mode": {
    "name": "ipython",
    "version": 3
   },
   "file_extension": ".py",
   "mimetype": "text/x-python",
   "name": "python",
   "nbconvert_exporter": "python",
   "pygments_lexer": "ipython3",
   "version": "3.8.5"
  }
 },
 "nbformat": 4,
 "nbformat_minor": 4
}
